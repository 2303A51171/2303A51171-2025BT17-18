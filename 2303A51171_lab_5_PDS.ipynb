{
  "nbformat": 4,
  "nbformat_minor": 0,
  "metadata": {
    "colab": {
      "provenance": [],
      "authorship_tag": "ABX9TyP25Y0aeNHSkU14byIioay9",
      "include_colab_link": true
    },
    "kernelspec": {
      "name": "python3",
      "display_name": "Python 3"
    },
    "language_info": {
      "name": "python"
    }
  },
  "cells": [
    {
      "cell_type": "markdown",
      "metadata": {
        "id": "view-in-github",
        "colab_type": "text"
      },
      "source": [
        "<a href=\"https://colab.research.google.com/github/THATIPALLYROHITH/2303A51171-2025BT17-18/blob/main/2303A51171_lab_5_PDS.ipynb\" target=\"_parent\"><img src=\"https://colab.research.google.com/assets/colab-badge.svg\" alt=\"Open In Colab\"/></a>"
      ]
    },
    {
      "cell_type": "code",
      "source": [
        "import pandas as pd\n",
        "\n",
        "# Students dataset\n",
        "students = pd.DataFrame({\n",
        "    \"student_id\": [1, 2, 3, 4, 5],\n",
        "    \"name\": [\"Alice\", \"Bob\", \"Charlie\", \"David\", \"Eva\"],\n",
        "    \"class\": [\"A\", \"B\", \"A\", \"B\", \"A\"]\n",
        "})\n",
        "\n",
        "# Exam scores dataset\n",
        "scores = pd.DataFrame({\n",
        "    \"student_id\": [1, 2, 3, 5, 6],\n",
        "    \"subject\": [\"Math\", \"Science\", \"Math\", \"Science\", \"Math\"],\n",
        "    \"marks\": [85, 90, 78, 88, 92]\n",
        "})\n",
        "\n",
        "print(\"Students:\\n\", students, \"\\n\")\n",
        "print(\"Scores:\\n\", scores, \"\\n\")\n",
        "\n",
        "# Different joins\n",
        "inner_join = pd.merge(students, scores, on=\"student_id\", how=\"inner\")\n",
        "left_join = pd.merge(students, scores, on=\"student_id\", how=\"left\")\n",
        "right_join = pd.merge(students, scores, on=\"student_id\", how=\"right\")\n",
        "\n",
        "print(\"Inner Join:\\n\", inner_join, \"\\n\")\n",
        "print(\"Left Join:\\n\", left_join, \"\\n\")\n",
        "print(\"Right Join:\\n\", right_join, \"\\n\")\n",
        "\n",
        "# Overall aggregate statistics\n",
        "print(\"Overall Stats:\\n\", inner_join[\"marks\"].agg([\"mean\", \"max\", \"min\", \"count\"]), \"\\n\")\n",
        "\n",
        "# Group-wise aggregate statistics\n",
        "print(\"Stats by Class:\\n\", inner_join.groupby(\"class\")[\"marks\"].agg([\"mean\", \"max\", \"min\", \"count\"]))\n"
      ],
      "metadata": {
        "colab": {
          "base_uri": "https://localhost:8080/"
        },
        "id": "0wt5LtJcebJg",
        "outputId": "1bb3d9c9-b058-41df-c5d4-652ebc42e2d3"
      },
      "execution_count": null,
      "outputs": [
        {
          "output_type": "stream",
          "name": "stdout",
          "text": [
            "Students:\n",
            "    student_id     name class\n",
            "0           1    Alice     A\n",
            "1           2      Bob     B\n",
            "2           3  Charlie     A\n",
            "3           4    David     B\n",
            "4           5      Eva     A \n",
            "\n",
            "Scores:\n",
            "    student_id  subject  marks\n",
            "0           1     Math     85\n",
            "1           2  Science     90\n",
            "2           3     Math     78\n",
            "3           5  Science     88\n",
            "4           6     Math     92 \n",
            "\n",
            "Inner Join:\n",
            "    student_id     name class  subject  marks\n",
            "0           1    Alice     A     Math     85\n",
            "1           2      Bob     B  Science     90\n",
            "2           3  Charlie     A     Math     78\n",
            "3           5      Eva     A  Science     88 \n",
            "\n",
            "Left Join:\n",
            "    student_id     name class  subject  marks\n",
            "0           1    Alice     A     Math   85.0\n",
            "1           2      Bob     B  Science   90.0\n",
            "2           3  Charlie     A     Math   78.0\n",
            "3           4    David     B      NaN    NaN\n",
            "4           5      Eva     A  Science   88.0 \n",
            "\n",
            "Right Join:\n",
            "    student_id     name class  subject  marks\n",
            "0           1    Alice     A     Math     85\n",
            "1           2      Bob     B  Science     90\n",
            "2           3  Charlie     A     Math     78\n",
            "3           5      Eva     A  Science     88\n",
            "4           6      NaN   NaN     Math     92 \n",
            "\n",
            "Overall Stats:\n",
            " mean     85.25\n",
            "max      90.00\n",
            "min      78.00\n",
            "count     4.00\n",
            "Name: marks, dtype: float64 \n",
            "\n",
            "Stats by Class:\n",
            "             mean  max  min  count\n",
            "class                            \n",
            "A      83.666667   88   78      3\n",
            "B      90.000000   90   90      1\n"
          ]
        }
      ]
    },
    {
      "cell_type": "code",
      "source": [
        "import pandas as pd\n",
        "\n",
        "# Load datasets\n",
        "customers = pd.read_csv(\"customers.csv\")\n",
        "sales = pd.read_csv(\"sales.csv\")\n",
        "\n",
        "print(\"Customers:\\n\", customers, \"\\n\")\n",
        "print(\"Sales:\\n\", sales, \"\\n\")\n",
        "\n",
        "# Merge datasets\n",
        "inner_sales = pd.merge(customers, sales, on=\"customer_id\", how=\"inner\")\n",
        "left_sales = pd.merge(customers, sales, on=\"customer_id\", how=\"left\")\n",
        "\n",
        "print(\"Inner Join:\\n\", inner_sales, \"\\n\")\n",
        "print(\"Left Join:\\n\", left_sales, \"\\n\")\n",
        "\n",
        "# Sales statistics\n",
        "print(\"Overall Sales Stats:\\n\", inner_sales[\"amount\"].agg([\"sum\", \"mean\", \"max\", \"min\", \"count\"]), \"\\n\")\n",
        "\n",
        "# Group by region\n",
        "region_stats = inner_sales.groupby(\"region\")[\"amount\"].agg([\"sum\", \"mean\", \"max\", \"min\", \"count\"])\n",
        "print(\"Sales Stats by Region:\\n\", region_stats)\n"
      ],
      "metadata": {
        "colab": {
          "base_uri": "https://localhost:8080/"
        },
        "id": "Fz41vZtcejt-",
        "outputId": "31b9f24d-51fa-4c7c-c9dd-4d4d91cca39f"
      },
      "execution_count": null,
      "outputs": [
        {
          "output_type": "stream",
          "name": "stdout",
          "text": [
            "Customers:\n",
            "    customer_id     name region\n",
            "0          101    Alice  North\n",
            "1          102      Bob  South\n",
            "2          103  Charlie   East\n",
            "3          104    David   West\n",
            "4          105      Eva  North \n",
            "\n",
            "Sales:\n",
            "    sale_id  customer_id  amount\n",
            "0     1001          101     250\n",
            "1     1002          102     450\n",
            "2     1003          101     300\n",
            "3     1004          103     500\n",
            "4     1005          104     700\n",
            "5     1006          106     200 \n",
            "\n",
            "Inner Join:\n",
            "    customer_id     name region  sale_id  amount\n",
            "0          101    Alice  North     1001     250\n",
            "1          101    Alice  North     1003     300\n",
            "2          102      Bob  South     1002     450\n",
            "3          103  Charlie   East     1004     500\n",
            "4          104    David   West     1005     700 \n",
            "\n",
            "Left Join:\n",
            "    customer_id     name region  sale_id  amount\n",
            "0          101    Alice  North   1001.0   250.0\n",
            "1          101    Alice  North   1003.0   300.0\n",
            "2          102      Bob  South   1002.0   450.0\n",
            "3          103  Charlie   East   1004.0   500.0\n",
            "4          104    David   West   1005.0   700.0\n",
            "5          105      Eva  North      NaN     NaN \n",
            "\n",
            "Overall Sales Stats:\n",
            " sum      2200.0\n",
            "mean      440.0\n",
            "max       700.0\n",
            "min       250.0\n",
            "count       5.0\n",
            "Name: amount, dtype: float64 \n",
            "\n",
            "Sales Stats by Region:\n",
            "         sum   mean  max  min  count\n",
            "region                             \n",
            "East    500  500.0  500  500      1\n",
            "North   550  275.0  300  250      2\n",
            "South   450  450.0  450  450      1\n",
            "West    700  700.0  700  700      1\n"
          ]
        }
      ]
    }
  ]
}