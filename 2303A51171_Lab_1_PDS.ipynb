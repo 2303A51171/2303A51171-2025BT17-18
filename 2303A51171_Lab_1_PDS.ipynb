{
  "nbformat": 4,
  "nbformat_minor": 0,
  "metadata": {
    "colab": {
      "provenance": [],
      "authorship_tag": "ABX9TyMvcjphtZxkeP09ibcG66rd",
      "include_colab_link": true
    },
    "kernelspec": {
      "name": "python3",
      "display_name": "Python 3"
    },
    "language_info": {
      "name": "python"
    }
  },
  "cells": [
    {
      "cell_type": "markdown",
      "metadata": {
        "id": "view-in-github",
        "colab_type": "text"
      },
      "source": [
        "<a href=\"https://colab.research.google.com/github/2303A51171/2303A51171-2025BT17-18/blob/main/2303A51171_Lab_1_PDS.ipynb\" target=\"_parent\"><img src=\"https://colab.research.google.com/assets/colab-badge.svg\" alt=\"Open In Colab\"/></a>"
      ]
    },
    {
      "cell_type": "code",
      "execution_count": 1,
      "metadata": {
        "colab": {
          "base_uri": "https://localhost:8080/"
        },
        "id": "r0l6b-O9nSeL",
        "outputId": "7944e153-3bba-449c-dc1a-5023cbd43001"
      },
      "outputs": [
        {
          "output_type": "stream",
          "name": "stdout",
          "text": [
            "Enter n value:4\n",
            "Enter r value:1\n",
            "4P1=4\n"
          ]
        }
      ],
      "source": [
        "def factorial(n):\n",
        "  if n==0 or n==1:\n",
        "    return 1\n",
        "  else:\n",
        "    return n* factorial(n-1)\n",
        "n=int(input(\"Enter n value:\"))\n",
        "r=int(input(\"Enter r value:\"))\n",
        "if n<r or n<0 or r<0:\n",
        "  print(\"Invalid input\")\n",
        "else:\n",
        "  nPr = factorial(n)//factorial(n-r)\n",
        "  print(f\"{n}P{r}={nPr}\")"
      ]
    },
    {
      "cell_type": "code",
      "source": [
        "def factorial(n):\n",
        "  if n==0 or n==1:\n",
        "    return 1\n",
        "  else:\n",
        "    return n*factorial(n-1)\n",
        "def iterative_factorial(n):\n",
        "  result = 1\n",
        "  for i in range(2,n+1):\n",
        "    result *=i\n",
        "  return result\n",
        "n=int(input(\"Enter a number:\"))\n",
        "if n>998:\n",
        "  print(\"Invalid input\")\n",
        "rec_result = factorial(n)\n",
        "iter_result=iterative_factorial(n)\n",
        "print(f\"Recursive factorial({n}):{str(rec_result)[:60]})\")\n",
        "print(f\"Interative factorial({n}):{str(iter_result)[:60]}\")\n",
        "if rec_result == iter_result:\n",
        "  print(\"Both methods give the same result.\")\n",
        "else:\n",
        "  print(\"Result differ,possibly due to recursion limit.\")\n",
        ""
      ],
      "metadata": {
        "colab": {
          "base_uri": "https://localhost:8080/"
        },
        "id": "uTz1LcPdolLP",
        "outputId": "d4ee5380-9c2b-44c6-e8e1-4b199744ff91"
      },
      "execution_count": 2,
      "outputs": [
        {
          "output_type": "stream",
          "name": "stdout",
          "text": [
            "Enter a number:5\n",
            "Recursive factorial(5):120)\n",
            "Interative factorial(5):120\n",
            "Both methods give the same result.\n"
          ]
        }
      ]
    }
  ]
}