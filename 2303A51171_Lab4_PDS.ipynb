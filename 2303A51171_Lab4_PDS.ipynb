{
  "nbformat": 4,
  "nbformat_minor": 0,
  "metadata": {
    "colab": {
      "provenance": [],
      "authorship_tag": "ABX9TyP3HxqYnZtab2sGoID8nxlY",
      "include_colab_link": true
    },
    "kernelspec": {
      "name": "python3",
      "display_name": "Python 3"
    },
    "language_info": {
      "name": "python"
    }
  },
  "cells": [
    {
      "cell_type": "markdown",
      "metadata": {
        "id": "view-in-github",
        "colab_type": "text"
      },
      "source": [
        "<a href=\"https://colab.research.google.com/github/THATIPALLYROHITH/2303A51171-2025BT17-18/blob/main/2303A51171_Lab4_PDS.ipynb\" target=\"_parent\"><img src=\"https://colab.research.google.com/assets/colab-badge.svg\" alt=\"Open In Colab\"/></a>"
      ]
    },
    {
      "cell_type": "code",
      "execution_count": 3,
      "metadata": {
        "colab": {
          "base_uri": "https://localhost:8080/"
        },
        "id": "4ZsiAcUlEPxP",
        "outputId": "8f2ebae7-05ca-4291-f88d-1c1f4ab7b2ce"
      },
      "outputs": [
        {
          "output_type": "stream",
          "name": "stdout",
          "text": [
            "Original Data:\n",
            "   Student_ID     Name  Math  Science  English\n",
            "0         101    Alice  85.0     88.0     79.0\n",
            "1         102      Bob   NaN     76.0     82.0\n",
            "2         103  Charlie  78.0      NaN     91.0\n",
            "3         104    David  92.0     90.0      NaN\n",
            "4         105      Eva   NaN     81.0     74.0\n",
            "\n",
            "Data after filling missing values:\n",
            "   Student_ID     Name  Math  Science  English\n",
            "0         101    Alice  85.0    88.00     79.0\n",
            "1         102      Bob  85.0    76.00     82.0\n",
            "2         103  Charlie  78.0    83.75     91.0\n",
            "3         104    David  92.0    90.00     81.5\n",
            "4         105      Eva  85.0    81.00     74.0\n",
            "\n",
            "High Achievers (score > 75 in all subjects):\n",
            "   Student_ID     Name  Math  Science  English\n",
            "0         101    Alice  85.0    88.00     79.0\n",
            "1         102      Bob  85.0    76.00     82.0\n",
            "2         103  Charlie  78.0    83.75     91.0\n",
            "3         104    David  92.0    90.00     81.5\n"
          ]
        }
      ],
      "source": [
        "import pandas as pd\n",
        "\n",
        "# Load student scores dataset\n",
        "df = pd.read_csv(\"student_scores.csv\")\n",
        "\n",
        "print(\"Original Data:\")\n",
        "print(df)\n",
        "\n",
        "# Fill missing subject marks with column-wise average (warning-free way)\n",
        "df['Math'] = df['Math'].fillna(df['Math'].mean())\n",
        "df['Science'] = df['Science'].fillna(df['Science'].mean())\n",
        "df['English'] = df['English'].fillna(df['English'].mean())\n",
        "\n",
        "print(\"\\nData after filling missing values:\")\n",
        "print(df)\n",
        "\n",
        "# Filter students scoring more than 75 in all subjects\n",
        "high_achievers = df[(df['Math'] > 75) &\n",
        "                    (df['Science'] > 75) &\n",
        "                    (df['English'] > 75)]\n",
        "\n",
        "print(\"\\nHigh Achievers (score > 75 in all subjects):\")\n",
        "print(high_achievers)\n"
      ]
    },
    {
      "cell_type": "code",
      "source": [
        "import pandas as pd\n",
        "\n",
        "# Load hospital patient dataset\n",
        "df = pd.read_csv(\"patients.csv\")\n",
        "\n",
        "print(\"Original Data:\")\n",
        "print(df)\n",
        "\n",
        "# Replace missing Age values with median (warning-free way)\n",
        "df['Age'] = df['Age'].fillna(df['Age'].median())\n",
        "\n",
        "print(\"\\nData after filling missing ages:\")\n",
        "print(df)\n",
        "\n",
        "# Filter elderly female patients (>50 years) diagnosed with Diabetes\n",
        "filtered_patients = df[(df['Gender'] == 'Female') &\n",
        "                       (df['Age'] > 50) &\n",
        "                       (df['Diagnosis'].str.lower() == 'diabetes')]\n",
        "\n",
        "print(\"\\nElderly Female Patients with Diabetes:\")\n",
        "print(filtered_patients)\n"
      ],
      "metadata": {
        "colab": {
          "base_uri": "https://localhost:8080/"
        },
        "id": "Czj9z9IeETLY",
        "outputId": "daa4dfe9-be04-4f6e-ccab-20e968db4659"
      },
      "execution_count": 4,
      "outputs": [
        {
          "output_type": "stream",
          "name": "stdout",
          "text": [
            "Original Data:\n",
            "   Patient_ID    Name   Age  Gender Diagnosis Admission_Date\n",
            "0         201    John  65.0    Male  Diabetes     2025-08-01\n",
            "1         202    Mary   NaN  Female  Diabetes     2025-07-20\n",
            "2         203   Linda  54.0  Female    Cancer     2025-06-15\n",
            "3         204  Robert  40.0    Male  Diabetes     2025-08-10\n",
            "4         205  Sophia  70.0  Female  Diabetes     2025-05-05\n",
            "5         206   Grace   NaN  Female       Flu     2025-04-25\n",
            "\n",
            "Data after filling missing ages:\n",
            "   Patient_ID    Name   Age  Gender Diagnosis Admission_Date\n",
            "0         201    John  65.0    Male  Diabetes     2025-08-01\n",
            "1         202    Mary  59.5  Female  Diabetes     2025-07-20\n",
            "2         203   Linda  54.0  Female    Cancer     2025-06-15\n",
            "3         204  Robert  40.0    Male  Diabetes     2025-08-10\n",
            "4         205  Sophia  70.0  Female  Diabetes     2025-05-05\n",
            "5         206   Grace  59.5  Female       Flu     2025-04-25\n",
            "\n",
            "Elderly Female Patients with Diabetes:\n",
            "   Patient_ID    Name   Age  Gender Diagnosis Admission_Date\n",
            "1         202    Mary  59.5  Female  Diabetes     2025-07-20\n",
            "4         205  Sophia  70.0  Female  Diabetes     2025-05-05\n"
          ]
        }
      ]
    }
  ]
}