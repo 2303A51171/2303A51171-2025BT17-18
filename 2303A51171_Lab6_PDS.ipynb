{
  "nbformat": 4,
  "nbformat_minor": 0,
  "metadata": {
    "colab": {
      "provenance": [],
      "authorship_tag": "ABX9TyMRxATRzJE13go2l5SmVpdB",
      "include_colab_link": true
    },
    "kernelspec": {
      "name": "python3",
      "display_name": "Python 3"
    },
    "language_info": {
      "name": "python"
    }
  },
  "cells": [
    {
      "cell_type": "markdown",
      "metadata": {
        "id": "view-in-github",
        "colab_type": "text"
      },
      "source": [
        "<a href=\"https://colab.research.google.com/github/THATIPALLYROHITH/2303A51171-2025BT17-18/blob/main/2303A51171_Lab6_PDS.ipynb\" target=\"_parent\"><img src=\"https://colab.research.google.com/assets/colab-badge.svg\" alt=\"Open In Colab\"/></a>"
      ]
    },
    {
      "cell_type": "code",
      "execution_count": 12,
      "metadata": {
        "colab": {
          "base_uri": "https://localhost:8080/"
        },
        "id": "th3KBLSdfmxU",
        "outputId": "9e1b77be-cf7e-423e-97b2-7cd41efbcf9b"
      },
      "outputs": [
        {
          "output_type": "stream",
          "name": "stdout",
          "text": [
            " First 5 rows of dataset:\n",
            "   survived  pclass     sex   age  sibsp  parch     fare embarked  class  \\\n",
            "0         0       3    male  22.0      1      0   7.2500        S  Third   \n",
            "1         1       1  female  38.0      1      0  71.2833        C  First   \n",
            "2         1       3  female  26.0      0      0   7.9250        S  Third   \n",
            "3         1       1  female  35.0      1      0  53.1000        S  First   \n",
            "4         0       3    male  35.0      0      0   8.0500        S  Third   \n",
            "\n",
            "     who  adult_male deck  embark_town alive  alone  \n",
            "0    man        True  NaN  Southampton    no  False  \n",
            "1  woman       False    C    Cherbourg   yes  False  \n",
            "2  woman       False  NaN  Southampton   yes   True  \n",
            "3  woman       False    C  Southampton   yes  False  \n",
            "4    man        True  NaN  Southampton    no   True  \n",
            "\n",
            " Missing Values Before Cleaning:\n",
            "survived         0\n",
            "pclass           0\n",
            "sex              0\n",
            "age            177\n",
            "sibsp            0\n",
            "parch            0\n",
            "fare             0\n",
            "embarked         2\n",
            "class            0\n",
            "who              0\n",
            "adult_male       0\n",
            "deck           688\n",
            "embark_town      2\n",
            "alive            0\n",
            "alone            0\n",
            "dtype: int64\n",
            "\n",
            " Missing Values After Cleaning:\n",
            "survived       0\n",
            "pclass         0\n",
            "sex            0\n",
            "age            0\n",
            "sibsp          0\n",
            "parch          0\n",
            "fare           0\n",
            "embarked       0\n",
            "class          0\n",
            "who            0\n",
            "adult_male     0\n",
            "embark_town    2\n",
            "alive          0\n",
            "alone          0\n",
            "dtype: int64\n",
            "\n",
            " Cleaned dataset saved as 'titanic_cleaned.csv'\n"
          ]
        }
      ],
      "source": [
        "import pandas as pd\n",
        "import seaborn as sns\n",
        "df = sns.load_dataset(\"titanic\")\n",
        "\n",
        "print(\" First 5 rows of dataset:\")\n",
        "print(df.head())\n",
        "\n",
        "print(\"\\n Missing Values Before Cleaning:\")\n",
        "print(df.isnull().sum())\n",
        "\n",
        "df['age'] = df['age'].fillna(df['age'].mean())\n",
        "\n",
        "df['embarked'] = df['embarked'].fillna(df['embarked'].mode()[0])\n",
        "\n",
        "df = df.drop(columns=['deck'])\n",
        "\n",
        "print(\"\\n Missing Values After Cleaning:\")\n",
        "print(df.isnull().sum())\n",
        "df.to_csv(\"titanic_cleaned.csv\", index=False)\n",
        "print(\"\\n Cleaned dataset saved as 'titanic_cleaned.csv'\")"
      ]
    },
    {
      "cell_type": "code",
      "source": [
        "import pandas as pd\n",
        "\n",
        "\n",
        "data = {\n",
        "    \"Name\": [\"Rohith\", \"Akshith\", \"Sai\", \"Priyanka\", \"Arjun\", \"Meena\"],\n",
        "    \"Gender\": [\"M\", \"Male\", \"male\", \"F\", \"Female\", \"female\"],\n",
        "    \"Age\": [20, 21, 22, 20, 23, 21]\n",
        "}\n",
        "\n",
        "df = pd.DataFrame(data)\n",
        "\n",
        "print(\"Original Dataset:\")\n",
        "print(df)\n",
        "\n",
        "df['Gender'] = df['Gender'].str.lower()\n",
        "\n",
        "gender_mapping = {\n",
        "    \"m\": \"Male\",\n",
        "    \"male\": \"Male\",\n",
        "    \"f\": \"Female\",\n",
        "    \"female\": \"Female\"\n",
        "}\n",
        "\n",
        "df['Gender'] = df['Gender'].map(gender_mapping)\n",
        "\n",
        "print(\"\\n Cleaned Dataset with Standardized Gender:\")\n",
        "print(df)\n",
        "\n",
        "print(\"\\n Unique Gender Categories After Cleaning:\")\n",
        "print(df['Gender'].unique())\n"
      ],
      "metadata": {
        "colab": {
          "base_uri": "https://localhost:8080/"
        },
        "id": "bGPPpLg9fqat",
        "outputId": "a71c4d8c-1961-4bd3-8510-aa91b2aacb45"
      },
      "execution_count": 13,
      "outputs": [
        {
          "output_type": "stream",
          "name": "stdout",
          "text": [
            "Original Dataset:\n",
            "       Name  Gender  Age\n",
            "0    Rohith       M   20\n",
            "1   Akshith    Male   21\n",
            "2       Sai    male   22\n",
            "3  Priyanka       F   20\n",
            "4     Arjun  Female   23\n",
            "5     Meena  female   21\n",
            "\n",
            " Cleaned Dataset with Standardized Gender:\n",
            "       Name  Gender  Age\n",
            "0    Rohith    Male   20\n",
            "1   Akshith    Male   21\n",
            "2       Sai    Male   22\n",
            "3  Priyanka  Female   20\n",
            "4     Arjun  Female   23\n",
            "5     Meena  Female   21\n",
            "\n",
            " Unique Gender Categories After Cleaning:\n",
            "['Male' 'Female']\n"
          ]
        }
      ]
    }
  ]
}