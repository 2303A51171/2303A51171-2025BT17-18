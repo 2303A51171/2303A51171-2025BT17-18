{
  "nbformat": 4,
  "nbformat_minor": 0,
  "metadata": {
    "colab": {
      "provenance": [],
      "toc_visible": true,
      "authorship_tag": "ABX9TyMnw8uzqXVnQMm13eGsKpoG",
      "include_colab_link": true
    },
    "kernelspec": {
      "name": "python3",
      "display_name": "Python 3"
    },
    "language_info": {
      "name": "python"
    }
  },
  "cells": [
    {
      "cell_type": "markdown",
      "metadata": {
        "id": "view-in-github",
        "colab_type": "text"
      },
      "source": [
        "<a href=\"https://colab.research.google.com/github/2303A51171/2303A51171-2025BT17-18/blob/main/230351171_lab2_PDS.ipynb\" target=\"_parent\"><img src=\"https://colab.research.google.com/assets/colab-badge.svg\" alt=\"Open In Colab\"/></a>"
      ]
    },
    {
      "cell_type": "code",
      "execution_count": 5,
      "metadata": {
        "colab": {
          "base_uri": "https://localhost:8080/"
        },
        "id": "CCxR4dvbYFsd",
        "outputId": "3b698ee9-9677-4287-ae1b-bc73c83fd5cf"
      },
      "outputs": [
        {
          "output_type": "stream",
          "name": "stdout",
          "text": [
            "Student Marks:\n",
            "[[85 78 92]\n",
            " [76 88 80]\n",
            " [90 94 89]\n",
            " [65 70 72]\n",
            " [88 82 95]]\n",
            "Average marks of each student: [85.         81.33333333 91.         69.         88.33333333]\n",
            "Minimum marks of each subject: [78 76 89 65 82]\n",
            "Maximum marks of each student: [92 88 94 72 95]\n",
            "Average marks in each subject: [80.8 82.4 85.6]\n",
            "Minimum marks in each subject: [65 70 72]\n",
            "Maximum marks in each subject: [90 94 95]\n",
            "Marks of Student 2: [76 88 80]\n",
            "Students scoring above 80 in any subjects:\n",
            "[85 92 88 90 94 89 88 82 95]\n",
            "Analysis:\n",
            "1.Student 3 performed best overall with high marks in all subjects\n",
            "2.Student 4 needs improvemt as scores are the lowest across subjects\n",
            "3.Subject 3 shows consistently high performance among students.\n"
          ]
        }
      ],
      "source": [
        "import numpy as np\n",
        "marks = np.array([\n",
        "    [85,78,92],\n",
        "    [76,88,80],\n",
        "    [90,94,89],\n",
        "    [65,70,72],\n",
        "    [88,82,95]\n",
        "])\n",
        "print(\"Student Marks:\")\n",
        "print(marks)\n",
        "print(\"Average marks of each student:\",np.mean(marks,axis=1))\n",
        "print(\"Minimum marks of each subject:\",np.min(marks,axis=1))\n",
        "print(\"Maximum marks of each student:\",np.max(marks,axis=1))\n",
        "print(\"Average marks in each subject:\",np.mean(marks,axis=0))\n",
        "print(\"Minimum marks in each subject:\",np.min(marks,axis=0))\n",
        "print(\"Maximum marks in each subject:\",np.max(marks,axis=0))\n",
        "print(\"Marks of Student 2:\",marks[1,:])\n",
        "print(\"Students scoring above 80 in any subjects:\")\n",
        "print(marks[marks>80])\n",
        "print(\"Analysis:\")\n",
        "print(\"1.Student 3 performed best overall with high marks in all subjects\")\n",
        "print(\"2.Student 4 needs improvemt as scores are the lowest across subjects\")\n",
        "print(\"3.Subject 3 shows consistently high performance among students.\")\n"
      ]
    },
    {
      "cell_type": "code",
      "source": [
        "import pandas as pd\n",
        "data={\n",
        "    \"ID\":[101,102,103,104,105],\n",
        "    \"Name\":[\"Alice\",\"Bob\",\"Charlie\",\"David\",\"Eva\"],\n",
        "    \"Department\":[\"HR\",\"IT\",\"Finance\",\"IT\",\"HR\"],\n",
        "    \"Salary\":[48000,60000,55000,45000,70000]\n",
        "}\n",
        "df=pd.DataFrame(data)\n",
        "print(\"Original Employee DataFrame:\\n\",df)\n",
        "high_salary=df[df[\"Salary\"]>50000]\n",
        "print(\"\\nEmployees with high Salary>50,000:\\n\",high_salary)\n",
        "sorted_df=df.sort_values(by=\"Salary\",ascending=False)\n",
        "print(\"\\nEmployees Sorted by Salary (Descending):\\n\",sorted_df)\n",
        "df[\"Bonus\"]=df[\"Salary\"]*0.10\n",
        "print(\"\\nDataFrame with Bonus Column:\\n\",df)\n",
        "df[\"Totalpay\"]=df[\"Salary\"]+df[\"Bonus\"]\n",
        "total_expense=df[\"Totalpay\"].sum()\n",
        "print(\"\\nTotal Salary Expense (with Bonus):\",total_expense)"
      ],
      "metadata": {
        "colab": {
          "base_uri": "https://localhost:8080/"
        },
        "id": "1Al90olFbVrv",
        "outputId": "d454cc17-9702-49da-fa42-794ad6764902"
      },
      "execution_count": 2,
      "outputs": [
        {
          "output_type": "stream",
          "name": "stdout",
          "text": [
            "Original Employee DataFrame:\n",
            "     ID     Name Department  Salary\n",
            "0  101    Alice         HR   48000\n",
            "1  102      Bob         IT   60000\n",
            "2  103  Charlie    Finance   55000\n",
            "3  104    David         IT   45000\n",
            "4  105      Eva         HR   70000\n",
            "\n",
            "Employees with high Salary>50,000:\n",
            "     ID     Name Department  Salary\n",
            "1  102      Bob         IT   60000\n",
            "2  103  Charlie    Finance   55000\n",
            "4  105      Eva         HR   70000\n",
            "\n",
            "Employees Sorted by Salary (Descending):\n",
            "     ID     Name Department  Salary\n",
            "4  105      Eva         HR   70000\n",
            "1  102      Bob         IT   60000\n",
            "2  103  Charlie    Finance   55000\n",
            "0  101    Alice         HR   48000\n",
            "3  104    David         IT   45000\n",
            "\n",
            "DataFrame with Bonus Column:\n",
            "     ID     Name Department  Salary   Bonus\n",
            "0  101    Alice         HR   48000  4800.0\n",
            "1  102      Bob         IT   60000  6000.0\n",
            "2  103  Charlie    Finance   55000  5500.0\n",
            "3  104    David         IT   45000  4500.0\n",
            "4  105      Eva         HR   70000  7000.0\n",
            "\n",
            "Total Salary Expense (with Bonus): 305800.0\n"
          ]
        }
      ]
    }
  ]
}